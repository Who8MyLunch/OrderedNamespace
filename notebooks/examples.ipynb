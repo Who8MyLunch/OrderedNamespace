{
 "cells": [
  {
   "cell_type": "markdown",
   "metadata": {},
   "source": [
    "# OrderedNameSpace"
   ]
  },
  {
   "cell_type": "code",
   "execution_count": 1,
   "metadata": {},
   "outputs": [],
   "source": [
    "import pickle\n",
    "import numpy as np\n",
    "\n",
    "import ordered_namespace as ons"
   ]
  },
  {
   "cell_type": "code",
   "execution_count": 2,
   "metadata": {},
   "outputs": [],
   "source": [
    "x = ons.Struct()"
   ]
  },
  {
   "cell_type": "code",
   "execution_count": 3,
   "metadata": {},
   "outputs": [],
   "source": [
    "x.mystuff = {'big': 6,\n",
    "             'small': 1e6}"
   ]
  },
  {
   "cell_type": "code",
   "execution_count": 4,
   "metadata": {},
   "outputs": [
    {
     "data": {
      "text/plain": [
       "Struct{\n",
       "       mystuff: Struct{\n",
       "                       big: 6,\n",
       "                       small: 1000000.0,\n",
       "                       },\n",
       "       }"
      ]
     },
     "execution_count": 4,
     "metadata": {},
     "output_type": "execute_result"
    }
   ],
   "source": [
    "x"
   ]
  },
  {
   "cell_type": "markdown",
   "metadata": {},
   "source": [
    "# Nice indenting"
   ]
  },
  {
   "cell_type": "code",
   "execution_count": 5,
   "metadata": {},
   "outputs": [],
   "source": [
    "x = ons.Struct()"
   ]
  },
  {
   "cell_type": "code",
   "execution_count": 6,
   "metadata": {},
   "outputs": [],
   "source": [
    "x.scalar = 0\n",
    "x.array_2d = np.arange(50).reshape(5,10) #.tolist()\n",
    "x.something = {'sg': [1,2, 'asf']}\n",
    "x.long_name_1d_array = np.arange(200)"
   ]
  },
  {
   "cell_type": "code",
   "execution_count": 7,
   "metadata": {},
   "outputs": [
    {
     "data": {
      "text/plain": [
       "Struct{\n",
       "       scalar: 0,\n",
       "       array_2d: array([[ 0,  1,  2,  3,  4,  5,  6,  7,  8,  9],\n",
       "                        [10, 11, 12, 13, 14, 15, 16, 17, 18, 19],\n",
       "                        [20, 21, 22, 23, 24, 25, 26, 27, 28, 29],\n",
       "                        [30, 31, 32, 33, 34, 35, 36, 37, 38, 39],\n",
       "                        [40, 41, 42, 43, 44, 45, 46, 47, 48, 49]]),\n",
       "       something: Struct{\n",
       "                         sg: [1, 2, 'asf'],\n",
       "                         },\n",
       "       long_name_1d_array: array([  0,   1,   2,   3,   4,   5,   6,   7,   8,   9,  10,  11,  12,\n",
       "                                   13,  14,  15,  16,  17,  18,  19,  20,  21,  22,  23,  24,  25,\n",
       "                                   26,  27,  28,  29,  30,  31,  32,  33,  34,  35,  36,  37,  38,\n",
       "                                   39,  40,  41,  42,  43,  44,  45,  46,  47,  48,  49,  50,  51,\n",
       "                                   52,  53,  54,  55,  56,  57,  58,  59,  60,  61,  62,  63,  64,\n",
       "                                   65,  66,  67,  68,  69,  70,  71,  72,  73,  74,  75,  76,  77,\n",
       "                                   78,  79,  80,  81,  82,  83,  84,  85,  86,  87,  88,  89,  90,\n",
       "                                   91,  92,  93,  94,  95,  96,  97,  98,  99, 100, 101, 102, 103,\n",
       "                                  104, 105, 106, 107, 108, 109, 110, 111, 112, 113, 114, 115, 116,\n",
       "                                  117, 118, 119, 120, 121, 122, 123, 124, 125, 126, 127, 128, 129,\n",
       "                                  130, 131, 132, 133, 134, 135, 136, 137, 138, 139, 140, 141, 142,\n",
       "                                  143, 144, 145, 146, 147, 148, 149, 150, 151, 152, 153, 154, 155,\n",
       "                                  156, 157, 158, 159, 160, 161, 162, 163, 164, 165, 166, 167, 168,\n",
       "                                  169, 170, 171, 172, 173, 174, 175, 176, 177, 178, 179, 180, 181,\n",
       "                                  182, 183, 184, 185, 186, 187, 188, 189, 190, 191, 192, 193, 194,\n",
       "                                  195, 196, 197, 198, 199]),\n",
       "       }"
      ]
     },
     "execution_count": 7,
     "metadata": {},
     "output_type": "execute_result"
    }
   ],
   "source": [
    "x"
   ]
  },
  {
   "cell_type": "markdown",
   "metadata": {},
   "source": [
    "# Pickle dumps and loads"
   ]
  },
  {
   "cell_type": "code",
   "execution_count": 8,
   "metadata": {},
   "outputs": [],
   "source": [
    "mybytes = pickle.dumps(x)"
   ]
  },
  {
   "cell_type": "code",
   "execution_count": 9,
   "metadata": {},
   "outputs": [],
   "source": [
    "y = pickle.loads(mybytes)"
   ]
  },
  {
   "cell_type": "code",
   "execution_count": 10,
   "metadata": {},
   "outputs": [
    {
     "data": {
      "text/plain": [
       "Struct{\n",
       "       scalar: 0,\n",
       "       array_2d: array([[ 0,  1,  2,  3,  4,  5,  6,  7,  8,  9],\n",
       "                        [10, 11, 12, 13, 14, 15, 16, 17, 18, 19],\n",
       "                        [20, 21, 22, 23, 24, 25, 26, 27, 28, 29],\n",
       "                        [30, 31, 32, 33, 34, 35, 36, 37, 38, 39],\n",
       "                        [40, 41, 42, 43, 44, 45, 46, 47, 48, 49]]),\n",
       "       something: Struct{\n",
       "                         sg: [1, 2, 'asf'],\n",
       "                         },\n",
       "       long_name_1d_array: array([  0,   1,   2,   3,   4,   5,   6,   7,   8,   9,  10,  11,  12,\n",
       "                                   13,  14,  15,  16,  17,  18,  19,  20,  21,  22,  23,  24,  25,\n",
       "                                   26,  27,  28,  29,  30,  31,  32,  33,  34,  35,  36,  37,  38,\n",
       "                                   39,  40,  41,  42,  43,  44,  45,  46,  47,  48,  49,  50,  51,\n",
       "                                   52,  53,  54,  55,  56,  57,  58,  59,  60,  61,  62,  63,  64,\n",
       "                                   65,  66,  67,  68,  69,  70,  71,  72,  73,  74,  75,  76,  77,\n",
       "                                   78,  79,  80,  81,  82,  83,  84,  85,  86,  87,  88,  89,  90,\n",
       "                                   91,  92,  93,  94,  95,  96,  97,  98,  99, 100, 101, 102, 103,\n",
       "                                  104, 105, 106, 107, 108, 109, 110, 111, 112, 113, 114, 115, 116,\n",
       "                                  117, 118, 119, 120, 121, 122, 123, 124, 125, 126, 127, 128, 129,\n",
       "                                  130, 131, 132, 133, 134, 135, 136, 137, 138, 139, 140, 141, 142,\n",
       "                                  143, 144, 145, 146, 147, 148, 149, 150, 151, 152, 153, 154, 155,\n",
       "                                  156, 157, 158, 159, 160, 161, 162, 163, 164, 165, 166, 167, 168,\n",
       "                                  169, 170, 171, 172, 173, 174, 175, 176, 177, 178, 179, 180, 181,\n",
       "                                  182, 183, 184, 185, 186, 187, 188, 189, 190, 191, 192, 193, 194,\n",
       "                                  195, 196, 197, 198, 199]),\n",
       "       }"
      ]
     },
     "execution_count": 10,
     "metadata": {},
     "output_type": "execute_result"
    }
   ],
   "source": [
    "y"
   ]
  },
  {
   "cell_type": "markdown",
   "metadata": {},
   "source": [
    "# Nested Structures"
   ]
  },
  {
   "cell_type": "code",
   "execution_count": 11,
   "metadata": {},
   "outputs": [],
   "source": [
    "x = ons.Struct(nested=True)"
   ]
  },
  {
   "cell_type": "code",
   "execution_count": 12,
   "metadata": {},
   "outputs": [],
   "source": [
    "x.scalar = 0\n",
    "x.something = {'sg': [1,2, 'asf']}\n",
    "x.random = {'data': np.random.random(25)}"
   ]
  },
  {
   "cell_type": "code",
   "execution_count": 13,
   "metadata": {},
   "outputs": [
    {
     "data": {
      "text/plain": [
       "Struct{\n",
       "       nested: True,\n",
       "       scalar: 0,\n",
       "       something: Struct{\n",
       "                         sg: [1, 2, 'asf'],\n",
       "                         },\n",
       "       random: Struct{\n",
       "                      data: array([0.29888215, 0.67603012, 0.62628546, 0.78848   , 0.81299192,\n",
       "                                   0.03373424, 0.46444034, 0.75644739, 0.01028076, 0.17897623,\n",
       "                                   0.09797371, 0.22780913, 0.94966035, 0.7128329 , 0.77447646,\n",
       "                                   0.69515535, 0.9072785 , 0.64361976, 0.73685462, 0.85389386,\n",
       "                                   0.93240095, 0.65438731, 0.09461801, 0.25277932, 0.93596334]),\n",
       "                      },\n",
       "       }"
      ]
     },
     "execution_count": 13,
     "metadata": {},
     "output_type": "execute_result"
    }
   ],
   "source": [
    "x"
   ]
  },
  {
   "cell_type": "code",
   "execution_count": 27,
   "metadata": {},
   "outputs": [
    {
     "data": {
      "text/plain": [
       "Struct{\n",
       "       data: array([0.29888215, 0.67603012, 0.62628546, 0.78848   , 0.81299192,\n",
       "                    0.03373424, 0.46444034, 0.75644739, 0.01028076, 0.17897623,\n",
       "                    0.09797371, 0.22780913, 0.94966035, 0.7128329 , 0.77447646,\n",
       "                    0.69515535, 0.9072785 , 0.64361976, 0.73685462, 0.85389386,\n",
       "                    0.93240095, 0.65438731, 0.09461801, 0.25277932, 0.93596334]),\n",
       "       }"
      ]
     },
     "execution_count": 27,
     "metadata": {},
     "output_type": "execute_result"
    }
   ],
   "source": [
    "x.random"
   ]
  },
  {
   "cell_type": "code",
   "execution_count": 23,
   "metadata": {},
   "outputs": [
    {
     "data": {
      "text/plain": [
       "<ipykernel.zmqshell.ZMQInteractiveShell at 0x7f69901f1f40>"
      ]
     },
     "execution_count": 23,
     "metadata": {},
     "output_type": "execute_result"
    }
   ],
   "source": [
    "import IPython\n",
    "\n",
    "ipy = IPython.get_ipython()\n",
    "\n",
    "ipy.\n",
    "\n",
    "# .all_completions('x.')\n",
    "    \n",
    "    "
   ]
  },
  {
   "cell_type": "code",
   "execution_count": 28,
   "metadata": {},
   "outputs": [],
   "source": [
    "%config IPCompleter.use_jedi=True"
   ]
  },
  {
   "cell_type": "code",
   "execution_count": 25,
   "metadata": {},
   "outputs": [
    {
     "name": "stdout",
     "output_type": "stream",
     "text": [
      "IPCompleter options\n",
      "-----------------\n",
      "IPCompleter.backslash_combining_completions=<Bool>\n",
      "    Current: True\n",
      "    Enable unicode completions, e.g. \\alpha<tab> . Includes completion of latex\n",
      "    commands, unicode names, and expanding unicode characters back to latex\n",
      "    commands.\n",
      "IPCompleter.debug=<Bool>\n",
      "    Current: True\n",
      "    Enable debug for the Completer. Mostly print extra information for\n",
      "    experimental jedi integration.\n",
      "IPCompleter.greedy=<Bool>\n",
      "    Current: False\n",
      "    Activate greedy completion PENDING DEPRECTION. this is now mostly taken care\n",
      "    of with Jedi.\n",
      "    This will enable completion on elements of lists, results of function calls,\n",
      "    etc., but can be unsafe because the code is actually evaluated on TAB.\n",
      "IPCompleter.jedi_compute_type_timeout=<Int>\n",
      "    Current: 400\n",
      "    Experimental: restrict time (in milliseconds) during which Jedi can compute\n",
      "    types. Set to 0 to stop computing types. Non-zero value lower than 100ms may\n",
      "    hurt performance by preventing jedi to build its cache.\n",
      "IPCompleter.limit_to__all__=<Bool>\n",
      "    Current: False\n",
      "    DEPRECATED as of version 5.0.\n",
      "    Instruct the completer to use __all__ for the completion\n",
      "    Specifically, when completing on ``object.<tab>``.\n",
      "    When True: only those names in obj.__all__ will be included.\n",
      "    When False [default]: the __all__ attribute is ignored\n",
      "IPCompleter.merge_completions=<Bool>\n",
      "    Current: True\n",
      "    Whether to merge completion results into a single list\n",
      "    If False, only the completion results from the first non-empty completer\n",
      "    will be returned.\n",
      "IPCompleter.omit__names=<Enum>\n",
      "    Current: 2\n",
      "    Choices: (0, 1, 2)\n",
      "    Instruct the completer to omit private method names\n",
      "    Specifically, when completing on ``object.<tab>``.\n",
      "    When 2 [default]: all names that start with '_' will be excluded.\n",
      "    When 1: all 'magic' names (``__foo__``) will be excluded.\n",
      "    When 0: nothing will be excluded.\n",
      "IPCompleter.use_jedi=<Bool>\n",
      "    Current: False\n",
      "    Experimental: Use Jedi to generate autocompletions. Default to True if jedi\n",
      "    is installed.\n"
     ]
    }
   ],
   "source": [
    "x.Oops Jedi has crashed, please report a bug with the following:\n",
    "\"\"\"\n",
    "'__wrapped__'\n",
    "s\"\"\""
   ]
  },
  {
   "cell_type": "code",
   "execution_count": null,
   "metadata": {},
   "outputs": [],
   "source": []
  }
 ],
 "metadata": {
  "kernelspec": {
   "display_name": "Python 3",
   "language": "python",
   "name": "python3"
  },
  "language_info": {
   "codemirror_mode": {
    "name": "ipython",
    "version": 3
   },
   "file_extension": ".py",
   "mimetype": "text/x-python",
   "name": "python",
   "nbconvert_exporter": "python",
   "pygments_lexer": "ipython3",
   "version": "3.8.0"
  }
 },
 "nbformat": 4,
 "nbformat_minor": 2
}
