{
 "cells": [
  {
   "cell_type": "markdown",
   "metadata": {},
   "source": [
    "# OrderedNameSpace"
   ]
  },
  {
   "cell_type": "code",
   "execution_count": 1,
   "metadata": {},
   "outputs": [],
   "source": [
    "import pickle\n",
    "import numpy as np\n",
    "\n",
    "import ordered_namespace as ons"
   ]
  },
  {
   "cell_type": "code",
   "execution_count": 2,
   "metadata": {},
   "outputs": [],
   "source": [
    "x = ons.Struct()"
   ]
  },
  {
   "cell_type": "code",
   "execution_count": 3,
   "metadata": {},
   "outputs": [],
   "source": [
    "x.mystuff = {'big': 6,\n",
    "             'small': 1e6}"
   ]
  },
  {
   "cell_type": "code",
   "execution_count": 4,
   "metadata": {},
   "outputs": [
    {
     "data": {
      "text/plain": [
       "Struct{\n",
       "       mystuff: {'big': 6, 'small': 1000000.0},\n",
       "       }"
      ]
     },
     "execution_count": 4,
     "metadata": {},
     "output_type": "execute_result"
    }
   ],
   "source": [
    "x"
   ]
  },
  {
   "cell_type": "markdown",
   "metadata": {},
   "source": [
    "# Nice indenting"
   ]
  },
  {
   "cell_type": "code",
   "execution_count": 5,
   "metadata": {},
   "outputs": [],
   "source": [
    "x = ons.Struct()"
   ]
  },
  {
   "cell_type": "code",
   "execution_count": 6,
   "metadata": {},
   "outputs": [],
   "source": [
    "x.scalar = 0\n",
    "x.array_2d = np.arange(50).reshape(5,10) #.tolist()\n",
    "x.something = {'sg': [1,2, 'asf']}\n",
    "x.long_name_1d_array = np.arange(200)"
   ]
  },
  {
   "cell_type": "code",
   "execution_count": 7,
   "metadata": {},
   "outputs": [
    {
     "data": {
      "text/plain": [
       "Struct{\n",
       "       scalar: 0,\n",
       "       array_2d: array([[ 0,  1,  2,  3,  4,  5,  6,  7,  8,  9],\n",
       "                        [10, 11, 12, 13, 14, 15, 16, 17, 18, 19],\n",
       "                        [20, 21, 22, 23, 24, 25, 26, 27, 28, 29],\n",
       "                        [30, 31, 32, 33, 34, 35, 36, 37, 38, 39],\n",
       "                        [40, 41, 42, 43, 44, 45, 46, 47, 48, 49]]),\n",
       "       something: {'sg': [1, 2, 'asf']},\n",
       "       long_name_1d_array: array([  0,   1,   2,   3,   4,   5,   6,   7,   8,   9,  10,  11,  12,\n",
       "                                   13,  14,  15,  16,  17,  18,  19,  20,  21,  22,  23,  24,  25,\n",
       "                                   26,  27,  28,  29,  30,  31,  32,  33,  34,  35,  36,  37,  38,\n",
       "                                   39,  40,  41,  42,  43,  44,  45,  46,  47,  48,  49,  50,  51,\n",
       "                                   52,  53,  54,  55,  56,  57,  58,  59,  60,  61,  62,  63,  64,\n",
       "                                   65,  66,  67,  68,  69,  70,  71,  72,  73,  74,  75,  76,  77,\n",
       "                                   78,  79,  80,  81,  82,  83,  84,  85,  86,  87,  88,  89,  90,\n",
       "                                   91,  92,  93,  94,  95,  96,  97,  98,  99, 100, 101, 102, 103,\n",
       "                                  104, 105, 106, 107, 108, 109, 110, 111, 112, 113, 114, 115, 116,\n",
       "                                  117, 118, 119, 120, 121, 122, 123, 124, 125, 126, 127, 128, 129,\n",
       "                                  130, 131, 132, 133, 134, 135, 136, 137, 138, 139, 140, 141, 142,\n",
       "                                  143, 144, 145, 146, 147, 148, 149, 150, 151, 152, 153, 154, 155,\n",
       "                                  156, 157, 158, 159, 160, 161, 162, 163, 164, 165, 166, 167, 168,\n",
       "                                  169, 170, 171, 172, 173, 174, 175, 176, 177, 178, 179, 180, 181,\n",
       "                                  182, 183, 184, 185, 186, 187, 188, 189, 190, 191, 192, 193, 194,\n",
       "                                  195, 196, 197, 198, 199]),\n",
       "       }"
      ]
     },
     "execution_count": 7,
     "metadata": {},
     "output_type": "execute_result"
    }
   ],
   "source": [
    "x"
   ]
  },
  {
   "cell_type": "markdown",
   "metadata": {},
   "source": [
    "# Pickle dumps and loads"
   ]
  },
  {
   "cell_type": "code",
   "execution_count": 12,
   "metadata": {},
   "outputs": [],
   "source": [
    "mybytes = pickle.dumps(x)"
   ]
  },
  {
   "cell_type": "code",
   "execution_count": 13,
   "metadata": {},
   "outputs": [],
   "source": [
    "y = pickle.loads(mybytes)"
   ]
  },
  {
   "cell_type": "code",
   "execution_count": 14,
   "metadata": {},
   "outputs": [
    {
     "data": {
      "text/plain": [
       "Struct{\n",
       "       scalar: 0,\n",
       "       array_2d: array([[ 0,  1,  2,  3,  4,  5,  6,  7,  8,  9],\n",
       "                        [10, 11, 12, 13, 14, 15, 16, 17, 18, 19],\n",
       "                        [20, 21, 22, 23, 24, 25, 26, 27, 28, 29],\n",
       "                        [30, 31, 32, 33, 34, 35, 36, 37, 38, 39],\n",
       "                        [40, 41, 42, 43, 44, 45, 46, 47, 48, 49]]),\n",
       "       something: {'sg': [1, 2, 'asf']},\n",
       "       long_name_1d_array: array([  0,   1,   2,   3,   4,   5,   6,   7,   8,   9,  10,  11,  12,\n",
       "                                   13,  14,  15,  16,  17,  18,  19,  20,  21,  22,  23,  24,  25,\n",
       "                                   26,  27,  28,  29,  30,  31,  32,  33,  34,  35,  36,  37,  38,\n",
       "                                   39,  40,  41,  42,  43,  44,  45,  46,  47,  48,  49,  50,  51,\n",
       "                                   52,  53,  54,  55,  56,  57,  58,  59,  60,  61,  62,  63,  64,\n",
       "                                   65,  66,  67,  68,  69,  70,  71,  72,  73,  74,  75,  76,  77,\n",
       "                                   78,  79,  80,  81,  82,  83,  84,  85,  86,  87,  88,  89,  90,\n",
       "                                   91,  92,  93,  94,  95,  96,  97,  98,  99, 100, 101, 102, 103,\n",
       "                                  104, 105, 106, 107, 108, 109, 110, 111, 112, 113, 114, 115, 116,\n",
       "                                  117, 118, 119, 120, 121, 122, 123, 124, 125, 126, 127, 128, 129,\n",
       "                                  130, 131, 132, 133, 134, 135, 136, 137, 138, 139, 140, 141, 142,\n",
       "                                  143, 144, 145, 146, 147, 148, 149, 150, 151, 152, 153, 154, 155,\n",
       "                                  156, 157, 158, 159, 160, 161, 162, 163, 164, 165, 166, 167, 168,\n",
       "                                  169, 170, 171, 172, 173, 174, 175, 176, 177, 178, 179, 180, 181,\n",
       "                                  182, 183, 184, 185, 186, 187, 188, 189, 190, 191, 192, 193, 194,\n",
       "                                  195, 196, 197, 198, 199]),\n",
       "       }"
      ]
     },
     "execution_count": 14,
     "metadata": {},
     "output_type": "execute_result"
    }
   ],
   "source": [
    "y"
   ]
  },
  {
   "cell_type": "markdown",
   "metadata": {},
   "source": [
    "# Nested Structures"
   ]
  },
  {
   "cell_type": "code",
   "execution_count": 28,
   "metadata": {},
   "outputs": [],
   "source": [
    "x = ons.Struct(nested=True)"
   ]
  },
  {
   "cell_type": "code",
   "execution_count": 29,
   "metadata": {},
   "outputs": [],
   "source": [
    "x.scalar = 0\n",
    "x.something = {'sg': [1,2, 'asf']}\n",
    "x.random = {'data': np.random.random(25)}"
   ]
  },
  {
   "cell_type": "code",
   "execution_count": 30,
   "metadata": {},
   "outputs": [
    {
     "data": {
      "text/plain": [
       "Struct{\n",
       "       scalar: 0,\n",
       "       something: Struct{\n",
       "                         sg: [1, 2, 'asf'],\n",
       "                         },\n",
       "       random: Struct{\n",
       "                      data: array([0.99610681, 0.74267122, 0.90382659, 0.05980847, 0.40595542,\n",
       "                                   0.35076938, 0.76282879, 0.38336114, 0.86462226, 0.41357368,\n",
       "                                   0.03529396, 0.71762389, 0.99005797, 0.88695958, 0.14284615,\n",
       "                                   0.4028287 , 0.87165696, 0.71295701, 0.74935568, 0.92428722,\n",
       "                                   0.90442384, 0.38544447, 0.90523058, 0.45503913, 0.92307538]),\n",
       "                      },\n",
       "       }"
      ]
     },
     "execution_count": 30,
     "metadata": {},
     "output_type": "execute_result"
    }
   ],
   "source": [
    "x"
   ]
  },
  {
   "cell_type": "code",
   "execution_count": null,
   "metadata": {},
   "outputs": [],
   "source": []
  }
 ],
 "metadata": {
  "kernelspec": {
   "display_name": "Python 3",
   "language": "python",
   "name": "python3"
  },
  "language_info": {
   "codemirror_mode": {
    "name": "ipython",
    "version": 3
   },
   "file_extension": ".py",
   "mimetype": "text/x-python",
   "name": "python",
   "nbconvert_exporter": "python",
   "pygments_lexer": "ipython3",
   "version": "3.7.0"
  }
 },
 "nbformat": 4,
 "nbformat_minor": 2
}
